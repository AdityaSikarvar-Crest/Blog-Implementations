{
 "cells": [
  {
   "cell_type": "markdown",
   "id": "0befb123-0be0-4257-ba73-1bf2b0caf4f5",
   "metadata": {},
   "source": [
    "## Build generative AI applications on Amazon Bedrock with the AWS SDK for Python (Boto3)"
   ]
  },
  {
   "cell_type": "markdown",
   "id": "16a3c58a-4998-49a4-851a-8eb243649778",
   "metadata": {},
   "source": [
    "### Import the required libraries"
   ]
  },
  {
   "cell_type": "code",
   "execution_count": 7,
   "id": "8126050e-a69b-4efd-924f-d4579b7412f1",
   "metadata": {},
   "outputs": [],
   "source": [
    "import boto3\n",
    "import json"
   ]
  },
  {
   "cell_type": "markdown",
   "id": "a4c0fe99-e2c3-484b-b4c4-d3a4b4cabaa1",
   "metadata": {},
   "source": [
    "### Set up the Amazon Bedrock client"
   ]
  },
  {
   "cell_type": "code",
   "execution_count": 9,
   "id": "37e89265-d17b-443b-b282-9ba6e1415890",
   "metadata": {},
   "outputs": [],
   "source": [
    "bedrock_client = boto3.client(\n",
    "    \tservice_name=\"bedrock-runtime\",\n",
    "    region_name=\"us-east-1\"\n",
    ")"
   ]
  },
  {
   "cell_type": "markdown",
   "id": "bff3d689-d61c-4de8-80c1-c6708db684fa",
   "metadata": {},
   "source": [
    "### Define the model ID"
   ]
  },
  {
   "cell_type": "code",
   "execution_count": 10,
   "id": "4e45c8df-6ba0-4e8a-8bdf-b87076e1bdab",
   "metadata": {},
   "outputs": [],
   "source": [
    "model_id = \"anthropic.claude-3-sonnet-20240229-v1:0\""
   ]
  },
  {
   "cell_type": "markdown",
   "id": "4b190fe8-f316-4958-8f88-70e8443b83f7",
   "metadata": {},
   "source": [
    "### Prepare the input prompt."
   ]
  },
  {
   "cell_type": "code",
   "execution_count": 12,
   "id": "fe3c2c5a-0332-4e49-907c-667594d3df23",
   "metadata": {},
   "outputs": [],
   "source": [
    "prompt = \"Write an article regardging first world war\""
   ]
  },
  {
   "cell_type": "markdown",
   "id": "41a51703-2ae9-462b-a08d-17dac43879da",
   "metadata": {},
   "source": [
    "### Create a Payload "
   ]
  },
  {
   "cell_type": "code",
   "execution_count": 13,
   "id": "0e7e9dec-b024-4992-8be8-96faea616b55",
   "metadata": {},
   "outputs": [],
   "source": [
    "payload = {\n",
    "    \"anthropic_version\": \"bedrock-2023-05-31\",\n",
    "    \"max_tokens\": 2048,\n",
    "    \"temperature\": 0.67,\n",
    "    \"top_k\": 500,\n",
    "    \"top_p\": 1,\n",
    "    \"messages\": [\n",
    "        {\n",
    "            \"role\": \"user\",\n",
    "            \"content\": [\n",
    "                {\n",
    "                    \"type\": \"text\",\n",
    "                    \"text\": prompt\n",
    "                }\n",
    "            ]\n",
    "        }\n",
    "    ]\n",
    "}"
   ]
  },
  {
   "cell_type": "markdown",
   "id": "fb1f100d-b593-4cfb-a0d8-2ea74fbe87b0",
   "metadata": {},
   "source": [
    "### Invoke the Amazon Bedrock model"
   ]
  },
  {
   "cell_type": "code",
   "execution_count": 35,
   "id": "7cc27c76-7226-4669-b9fb-d017757677c7",
   "metadata": {},
   "outputs": [],
   "source": [
    "response = bedrock_client.invoke_model(\n",
    "    modelId=model_id,\n",
    "    body=json.dumps(payload)\n",
    ")"
   ]
  },
  {
   "cell_type": "markdown",
   "id": "5df9ce0b-637d-4b5a-b435-f4a14c1b784e",
   "metadata": {},
   "source": [
    "### Process the response"
   ]
  },
  {
   "cell_type": "code",
   "execution_count": 36,
   "id": "c1ad2ae4-b1e0-406e-b638-970bfe32ab50",
   "metadata": {},
   "outputs": [
    {
     "name": "stdout",
     "output_type": "stream",
     "text": [
      "Response: Here is a draft article regarding the First World War:\n",
      "\n",
      "The First World War: The Great War that Reshaped the World\n",
      "\n",
      "The First World War, also known as the Great War, was a global conflict that lasted from 1914 to 1918 and involved most of the world's great powers at the time. It was one of the deadliest conflicts in human history, with an estimated 9 million soldiers killed and millions more civilians affected by the devastation.\n",
      "\n",
      "The war began on July 28, 1914, when Austria-Hungary declared war on Serbia after the assassination of Archduke Franz Ferdinand, the heir to the Austro-Hungarian throne, by a Serbian nationalist. This event triggered a chain reaction of alliances, with Russia supporting Serbia, Germany supporting Austria-Hungary, and France and Britain supporting Russia. The war quickly escalated into a global conflict, with the Central Powers (Germany, Austria-Hungary, and the Ottoman Empire) fighting against the Allied Powers (Britain, France, Russia, Italy, and later the United States).\n",
      "\n",
      "The war was characterized by trench warfare, a brutal and static form of combat in which soldiers lived in muddy, disease-ridden trenches and engaged in bloody battles over small gains of territory. New technologies, such as machine guns, tanks, and chemical weapons, were introduced and contributed to the unprecedented loss of life. The Battle of the Somme and the Battle of Verdun were among the deadliest battles in human history, with over a million casualties each.\n",
      "\n",
      "The entry of the United States into the war in 1917, after years of neutrality, proved to be a turning point. The fresh American troops and resources helped to tip the balance in favor of the Allies. On November 11, 1918, Germany signed an armistice, effectively ending the war.\n",
      "\n",
      "The aftermath of the First World War was profound and far-reaching. The map of Europe was redrawn, with the dissolution of the Austro-Hungarian and Ottoman empires and the creation of new nation-states. The war also gave rise to new ideologies and political movements, such as communism in Russia and fascism in Italy and Germany.\n",
      "\n",
      "The First World War left a lasting impact on the world and shaped the course of the 20th century. It was a conflict of unprecedented scale and destruction, and its legacy continues to be felt and studied to this day.\n"
     ]
    }
   ],
   "source": [
    "result = json.loads(response[\"body\"].read())\n",
    "generated_text = \"\".join([output[\"text\"] for output in result[\"content\"]])\n",
    "print(f\"Response: {generated_text}\")"
   ]
  }
 ],
 "metadata": {
  "kernelspec": {
   "display_name": "Python 3 (ipykernel)",
   "language": "python",
   "name": "python3"
  },
  "language_info": {
   "codemirror_mode": {
    "name": "ipython",
    "version": 3
   },
   "file_extension": ".py",
   "mimetype": "text/x-python",
   "name": "python",
   "nbconvert_exporter": "python",
   "pygments_lexer": "ipython3",
   "version": "3.12.7"
  }
 },
 "nbformat": 4,
 "nbformat_minor": 5
}
